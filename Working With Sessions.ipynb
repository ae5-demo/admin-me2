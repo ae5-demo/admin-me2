{
 "cells": [
  {
   "cell_type": "markdown",
   "metadata": {},
   "source": [
    "# Working in AE5 with Sessions\n",
    "## Basics\n",
    "- Anaconda enterprise makes sessions accessible through ingress service on the gravitational cluster\n",
    "- That limits from the get go, the communication with sessions and deployments to http/https based communication (you can't run a RADIUS, or RPC servers for example).\n",
    "- the ingress service creates provides Name based virtual hosting, so every session or deployment creates an ingress service with the session id as the subdomain (for example this setup has ae54en.demo.anaconda.com as the base domain, and the session id as the subdomain.\n",
    "- the address created is available in the pod via the $TOOL_HOST"
   ]
  },
  {
   "cell_type": "code",
   "execution_count": null,
   "metadata": {},
   "outputs": [],
   "source": [
    "!hostname #hostname is the name of the pod for the seesion, and it is composed of anaconda-session-<sessionid>-<some-random-seq>"
   ]
  },
  {
   "cell_type": "code",
   "execution_count": 1,
   "metadata": {},
   "outputs": [
    {
     "name": "stdout",
     "output_type": "stream",
     "text": [
      "9aa0a451b77a441a9404e301865ee49f.ae54en.demo.anaconda.com\n"
     ]
    }
   ],
   "source": [
    "!echo $TOOL_HOST"
   ]
  },
  {
   "cell_type": "code",
   "execution_count": 2,
   "metadata": {},
   "outputs": [
    {
     "name": "stdout",
     "output_type": "stream",
     "text": [
      "https://9aa0a451b77a441a9404e301865ee49f.ae54en.demo.anaconda.com\n"
     ]
    }
   ],
   "source": [
    "# so this will be the address of the editor for external clients to gravitational\n",
    "!echo https://$TOOL_HOST"
   ]
  },
  {
   "cell_type": "markdown",
   "metadata": {},
   "source": [
    "base                  \n",
    "anaconda201908_py37     \n",
    "anaconda44_py27          \n",
    "anaconda44_py35         \n",
    "anaconda44_py36          \n",
    "anaconda44_r             \n",
    "anaconda50_hadoop        \n",
    "anaconda50_impyla       \n",
    "anaconda50_py27          \n",
    "anaconda50_py35         \n",
    "anaconda50_py36         \n",
    "anaconda50_sas          \n",
    "lab_launch             \n",
    "py36                   \n",
    "sync_launch    "
   ]
  },
  {
   "cell_type": "markdown",
   "metadata": {},
   "source": [
    "- base is where conda is installed\n",
    "- lab_launch is where the editor environment is installed (Jupyter notebook/lab zeppelin, etc...) as well as all the anaconda-project and other supporting tools for preparing the session.\n",
    "- base is in base /opt/continuum/anaconda \n",
    "- all other envs are /opt/continuum/anaconda/envs/<env-name>\n",
    "- lab_launch has many binaries linked from base (like conda)"
   ]
  },
  {
   "cell_type": "markdown",
   "metadata": {},
   "source": [
    "ANACONDA_PROJECT_ENVS_PATH is set so that new environment created by anaconda-project are created there, and not where the command is executed"
   ]
  },
  {
   "cell_type": "code",
   "execution_count": null,
   "metadata": {},
   "outputs": [],
   "source": [
    "!env | grep ANACONDA_PROJECT_ENVS_PATH"
   ]
  },
  {
   "cell_type": "code",
   "execution_count": null,
   "metadata": {},
   "outputs": [],
   "source": [
    "!conda env list"
   ]
  }
 ],
 "metadata": {
  "kernelspec": {
   "display_name": "Python 3",
   "language": "python",
   "name": "anaconda-project-anaconda201908_py37-python3"
  },
  "language_info": {
   "codemirror_mode": {
    "name": "ipython",
    "version": 3
   },
   "file_extension": ".py",
   "mimetype": "text/x-python",
   "name": "python",
   "nbconvert_exporter": "python",
   "pygments_lexer": "ipython3",
   "version": "3.7.4"
  }
 },
 "nbformat": 4,
 "nbformat_minor": 2
}
